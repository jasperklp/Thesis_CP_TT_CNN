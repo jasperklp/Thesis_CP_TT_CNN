{
 "cells": [
  {
   "cell_type": "markdown",
   "metadata": {},
   "source": [
    "<h1> Test outcomes memory TT</h1>\n",
    "\n",
    "Some memory tests will be done for the TT CNN"
   ]
  },
  {
   "cell_type": "code",
   "execution_count": 145,
   "metadata": {},
   "outputs": [
    {
     "name": "stdout",
     "output_type": "stream",
     "text": [
      "The output is 1856192\n"
     ]
    }
   ],
   "source": [
    "S = 10\n",
    "T = 20\n",
    "D1 = 3\n",
    "D2 = 3\n",
    "R1 = 5\n",
    "R2 = 6\n",
    "R3 = 7\n",
    "img = (30,40)\n",
    "img_out = (30,40)\n",
    "bits = 32\n",
    "\n",
    "Input_image     = S * img[0] * img[1]\n",
    "Output_image    = T * img_out[0] * img_out[1]\n",
    "\n",
    "Kernel_1 = S * R1\n",
    "Kernel_2 = R1 * D1 * R2\n",
    "Kernel_3 = R2 * D2 * R3\n",
    "Kernel_4 = R3 * T\n",
    "\n",
    "In_between_image_1 = R1 * img[0] * img[1]\n",
    "In_between_image_2 = R2 * img_out[0] * img[1]\n",
    "In_between_image_3 = R3 * img_out[0] * img_out[1]\n",
    "\n",
    "\n",
    "output = [Input_image, [Kernel_1, Kernel_2,Kernel_3,Kernel_4], [In_between_image_1, In_between_image_2, In_between_image_3], Output_image]\n",
    "\n",
    "output = sum([sum(i) if isinstance(i,list) else i for i in output ])*32\n",
    "\n",
    "print(f\"The output is {output}\")\n"
   ]
  },
  {
   "cell_type": "markdown",
   "metadata": {},
   "source": []
  },
  {
   "cell_type": "code",
   "execution_count": 146,
   "metadata": {},
   "outputs": [
    {
     "name": "stdout",
     "output_type": "stream",
     "text": [
      "The output is 1727936\n"
     ]
    }
   ],
   "source": [
    "S = 10\n",
    "T = 20\n",
    "D1 = 5\n",
    "D2 = 5\n",
    "R1 = 5\n",
    "R2 = 6\n",
    "R3 = 7\n",
    "img = (30,40)\n",
    "img_out = (28,38)\n",
    "bits = 32\n",
    "\n",
    "Input_image     = S * img[0] * img[1]\n",
    "Output_image    = T * img_out[0] * img_out[1]\n",
    "\n",
    "Kernel_1 = S  * R1\n",
    "Kernel_2 = R1 * D1 * R2\n",
    "Kernel_3 = R2 * D2 * R3\n",
    "Kernel_4 = R3 * T\n",
    "\n",
    "In_between_image_1 = R1 * img[0] * img[1]\n",
    "In_between_image_2 = R2 * img_out[0] * img[1]\n",
    "In_between_image_3 = R3 * img_out[0] * img_out[1]\n",
    "\n",
    "\n",
    "output = [Input_image, [Kernel_1, Kernel_2,Kernel_3,Kernel_4], [In_between_image_1, In_between_image_2, In_between_image_3], Output_image]\n",
    "\n",
    "output = sum([sum(i) if isinstance(i,list) else i for i in output ])*32\n",
    "\n",
    "print(f\"The output is {output}\")"
   ]
  },
  {
   "cell_type": "markdown",
   "metadata": {},
   "source": []
  },
  {
   "cell_type": "code",
   "execution_count": null,
   "metadata": {},
   "outputs": [
    {
     "name": "stdout",
     "output_type": "stream",
     "text": [
      "The output is 1807040\n"
     ]
    }
   ],
   "source": [
    "S = 10\n",
    "T = 20\n",
    "D1 = 3\n",
    "D2 = 5\n",
    "R1 = 5\n",
    "R2 = 6\n",
    "R3 = 7\n",
    "img = (30,40)\n",
    "img_out = (30,38)\n",
    "bits = 32\n",
    "\n",
    "Input_image     = S * img[0] * img[1]\n",
    "Output_image    = T * img_out[0] * img_out[1]\n",
    "\n",
    "Kernel_1 = S*R1\n",
    "Kernel_2 = R1 * D1 * R2\n",
    "Kernel_3 = R2 * D2 * R3\n",
    "Kernel_4 = R3 * T\n",
    "\n",
    "In_between_image_1 = R1 * img[0] * img[1]\n",
    "In_between_image_2 = R2 * img_out[0] * img[1]\n",
    "In_between_image_3 = R3 * img_out[0] * img_out[1]\n",
    "\n",
    "\n",
    "output = [Input_image, [Kernel_1, Kernel_2,Kernel_3,Kernel_4], [In_between_image_1, In_between_image_2, In_between_image_3], Output_image]\n",
    "\n",
    "output = sum([sum(i) if isinstance(i,list) else i for i in output]) * bits\n",
    "\n",
    "print(f\"The output is {output}\")\n"
   ]
  },
  {
   "cell_type": "markdown",
   "metadata": {},
   "source": [
    "<h1> MAC verification </h1>\n",
    "\n",
    "First test:\n",
    "\n",
    "test MAC for same in and ouput shape\n",
    "Thus no padding, stride or dilation."
   ]
  },
  {
   "cell_type": "code",
   "execution_count": 148,
   "metadata": {},
   "outputs": [
    {
     "name": "stdout",
     "output_type": "stream",
     "text": [
      "The # of MACS is 487200\n"
     ]
    }
   ],
   "source": [
    "S = 10\n",
    "T = 20\n",
    "D1 = 3\n",
    "D2 = 3\n",
    "R1 = 5\n",
    "R2 = 6\n",
    "R3 = 7\n",
    "img = (30,40)\n",
    "\n",
    "size_per_out_pixel = S*R1 + R1*D1*R2 + R2*D2*R3 + R3*T\n",
    "total = size_per_out_pixel * img[0]*img[1]\n",
    "print(f\"The # of MACS is {total}\")"
   ]
  },
  {
   "cell_type": "markdown",
   "metadata": {},
   "source": [
    "Now a new test is done but the input and output size differ this time\n",
    "\n"
   ]
  },
  {
   "cell_type": "code",
   "execution_count": 149,
   "metadata": {},
   "outputs": [
    {
     "name": "stdout",
     "output_type": "stream",
     "text": [
      "The # of MACS is 600400\n"
     ]
    }
   ],
   "source": [
    "S = 10\n",
    "T = 20\n",
    "D1 = 5\n",
    "D2 = 5\n",
    "R1 = 5\n",
    "R2 = 6\n",
    "R3 = 7\n",
    "img = (30,40)\n",
    "img_out = (28,38)\n",
    "\n",
    "total = 0\n",
    "total += S*R1 * img[0] * img[1]\n",
    "total += R1*D1*R2 * img_out[0] * img[1]\n",
    "total += R2*D2*R3 * img_out[0] * img_out[1]\n",
    "total += R3 * T * img_out[0] * img_out[1]\n",
    "print(f\"The # of MACS is {total}\")"
   ]
  },
  {
   "cell_type": "markdown",
   "metadata": {},
   "source": [
    "And now when the kernel is not Square"
   ]
  },
  {
   "cell_type": "code",
   "execution_count": 150,
   "metadata": {},
   "outputs": [
    {
     "name": "stdout",
     "output_type": "stream",
     "text": [
      "The # of MACS is 567000\n"
     ]
    }
   ],
   "source": [
    "S = 10\n",
    "T = 20\n",
    "D1 = 3\n",
    "D2 = 5\n",
    "R1 = 5\n",
    "R2 = 6\n",
    "R3 = 7\n",
    "img = (30,40)\n",
    "img_out = (30,38)\n",
    "\n",
    "total = 0\n",
    "total += S*R1 * img[0] * img[1]\n",
    "total += R1*D1*R2 * img_out[0] * img[1]\n",
    "total += R2*D2*R3 * img_out[0] * img_out[1]\n",
    "total += R3 * T * img_out[0] * img_out[1]\n",
    "print(f\"The # of MACS is {total}\")"
   ]
  },
  {
   "cell_type": "markdown",
   "metadata": {},
   "source": [
    "<h1> Split RAM outcomes verficiation </h1>\n",
    "\n",
    "Here differnt split RAM values are given such to verifiy the per kernel usage. This is done only onece for the other parts only total output is checked."
   ]
  },
  {
   "cell_type": "code",
   "execution_count": 151,
   "metadata": {},
   "outputs": [
    {
     "name": "stdout",
     "output_type": "stream",
     "text": [
      "The output list is [384000, [1600, 2880, 4032, 4480], [192000, 230400, 268800], 768000]\n"
     ]
    }
   ],
   "source": [
    "S = 10\n",
    "T = 20\n",
    "D1 = 3\n",
    "D2 = 3\n",
    "R1 = 5\n",
    "R2 = 6\n",
    "R3 = 7\n",
    "img = (30,40)\n",
    "img_out = (30,40)\n",
    "\n",
    "Filter_1 = S*R1\n",
    "Filter_2 = R1 * D1 * R2\n",
    "Filter_3 = R2 * D2 * R3\n",
    "Filter_4 = R3 * T\n",
    "\n",
    "Input_image  = S * img[0] * img[1]\n",
    "Output_image = T * img_out[0] * img_out[1] \n",
    "\n",
    "Between_map_1 = R1 * img[0] * img[1]\n",
    "Between_map_2 = R2 * img_out[0] * img[1]\n",
    "Between_map_3 = R3 * img_out[0] * img_out[1]\n",
    "\n",
    "output = [Input_image, [Filter_1, Filter_2, Filter_3, Filter_4], [Between_map_1, Between_map_2,Between_map_3], Output_image]\n",
    "bits = 32\n",
    "\n",
    "#Make a new list and mulitply all elements by a fixed amount. \n",
    "output = [[i * bits for i in x] if isinstance(x,list) else x*bits for x in output]\n",
    "\n",
    "\n",
    "\n",
    "\n",
    "print(f\"The output list is {output}\")"
   ]
  }
 ],
 "metadata": {
  "kernelspec": {
   "display_name": ".venv",
   "language": "python",
   "name": "python3"
  },
  "language_info": {
   "codemirror_mode": {
    "name": "ipython",
    "version": 3
   },
   "file_extension": ".py",
   "mimetype": "text/x-python",
   "name": "python",
   "nbconvert_exporter": "python",
   "pygments_lexer": "ipython3",
   "version": "3.12.2"
  }
 },
 "nbformat": 4,
 "nbformat_minor": 2
}
