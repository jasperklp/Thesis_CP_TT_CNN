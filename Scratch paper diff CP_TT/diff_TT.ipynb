{
 "cells": [
  {
   "cell_type": "code",
   "execution_count": 73,
   "metadata": {},
   "outputs": [],
   "source": [
    "using Printf"
   ]
  },
  {
   "cell_type": "markdown",
   "metadata": {},
   "source": [
    "Difference in memory TT vs CP\n"
   ]
  },
  {
   "cell_type": "code",
   "execution_count": 74,
   "metadata": {},
   "outputs": [
    {
     "data": {
      "text/plain": [
       "0.1"
      ]
     },
     "metadata": {},
     "output_type": "display_data"
    }
   ],
   "source": [
    "#Set the amount of paramters\n",
    "\n",
    "S = 256 #in channels\n",
    "T = 512 #out channels\n",
    "d1 = d2 = d = 3 #kernel size of the 2D kernel.\n",
    "c = 0.1 #Compression ratio (# of parameters of decomposed system / #of parameters of original system. )"
   ]
  },
  {
   "cell_type": "markdown",
   "metadata": {},
   "source": [
    "Assume padding is s.t. the input image size is equal to the output image size"
   ]
  },
  {
   "cell_type": "markdown",
   "metadata": {},
   "source": [
    "Calculate rank for CP"
   ]
  },
  {
   "cell_type": "code",
   "execution_count": 75,
   "metadata": {},
   "outputs": [
    {
     "name": "stdout",
     "output_type": "stream",
     "text": [
      "CP rank = 152 \n",
      "CP parameters = 117648\n",
      "Memory output per pixel = 968\n"
     ]
    }
   ],
   "source": [
    "#Calcluate the CP rank\n",
    "R_cp = c * (S*T*d^2) / (S+T+2*d)\n",
    "R_cp = round(R_cp)\n",
    "\n",
    "#Calculate the CP parameters\n",
    "parms_cp = R_cp * (S+T+2*d)\n",
    "\n",
    "#Calculate the amount of memory per output pixel assuming the in- and output pixel of the system have the same size.\n",
    "memory_per_out_pixel_cp = 3*R_cp + T\n",
    "\n",
    "@printf \"CP rank = %.0f \\n\" R_cp\n",
    "@printf \"CP parameters = %.0f\\n\" parms_cp\n",
    "@printf \"Memory output per pixel = %.0f\\n\" memory_per_out_pixel_cp\n"
   ]
  },
  {
   "cell_type": "markdown",
   "metadata": {},
   "source": [
    "Now the same can be done for TT. Note that in order to find the ranks some inbetween rank needs to be calculated. This is done first."
   ]
  },
  {
   "cell_type": "code",
   "execution_count": 76,
   "metadata": {},
   "outputs": [
    {
     "name": "stdout",
     "output_type": "stream",
     "text": [
      "R1 = 91 \n",
      "R2 = 2 \n",
      "R3 = 181 \n",
      "TT parms = 117600 \n",
      "Memory output per pixel = 786 \n"
     ]
    }
   ],
   "source": [
    "#Calculate the temperary varables they're important for the distribution of rank.\n",
    "R1_temp = (S+d1)/2\n",
    "R2_temp = (d1+d2)/2 \n",
    "R3_temp = (d2+T)/2  \n",
    "\n",
    "#Calculate\n",
    "A = R2_temp * (R1_temp * d1 + R3_temp * d2)\n",
    "B = R1_temp*S + R3_temp * T\n",
    "C = -1 *c*S*T*d1*d2\n",
    "Rtt = (-B + sqrt(B^2-4*A*C)) / (2*A)\n",
    "\n",
    "#Calculate the ranks.\n",
    "R1 = round(R1_temp * Rtt) \n",
    "R2 = round(R2_temp * Rtt)\n",
    "R3 = round(R3_temp * Rtt) \n",
    "\n",
    "#Make sure that each rank is at least 1. This has to be done to make sure that no rank zero occures due to the rounding.\n",
    "R1 = R1 < 1 ? 1 : R1\n",
    "R2 = R2 < 1 ? 1 : R2\n",
    "R3 = R3 < 1 ? 1 : R3\n",
    "\n",
    "#Calculate the amount of paramters in the TT system\n",
    "parms_tt = R1*S + R2*(R1*d1+R3*d2) + R3*T\n",
    "\n",
    "#Calculate the amount of memory that is required for the system per output pixel assumming the image sizes remain the same.\n",
    "memory_per_out_pixel = R1 + R2 + R3 + T\n",
    "\n",
    "\n",
    "#Print the obtained outputs.\n",
    "@printf \"R1 = %.0f \\n\" R1\n",
    "@printf \"R2 = %.0f \\n\" R2\n",
    "@printf \"R3 = %.0f \\n\" R3\n",
    "@printf \"TT parms = %.0f \\n\" parms_tt\n",
    "@printf \"Memory output per pixel = %.0f \\n\" memory_per_out_pixel"
   ]
  },
  {
   "cell_type": "markdown",
   "metadata": {},
   "source": []
  }
 ],
 "metadata": {
  "kernelspec": {
   "display_name": "Julia 1.10.2",
   "language": "julia",
   "name": "julia-1.10"
  },
  "language_info": {
   "file_extension": ".jl",
   "mimetype": "application/julia",
   "name": "julia",
   "version": "1.10.2"
  }
 },
 "nbformat": 4,
 "nbformat_minor": 2
}
